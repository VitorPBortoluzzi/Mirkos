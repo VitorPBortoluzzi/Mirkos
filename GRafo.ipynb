{
  "nbformat": 4,
  "nbformat_minor": 0,
  "metadata": {
    "colab": {
      "provenance": [],
      "mount_file_id": "1-ZiOxnjvu7UQ80NEyOQoDD8QKkcLdtZA",
      "authorship_tag": "ABX9TyOycPsVdJr32dekYcwFpFIG",
      "include_colab_link": true
    },
    "kernelspec": {
      "name": "python3",
      "display_name": "Python 3"
    },
    "language_info": {
      "name": "python"
    }
  },
  "cells": [
    {
      "cell_type": "markdown",
      "metadata": {
        "id": "view-in-github",
        "colab_type": "text"
      },
      "source": [
        "<a href=\"https://colab.research.google.com/github/VitorPBortoluzzi/Mirkos/blob/main/GRafo.ipynb\" target=\"_parent\"><img src=\"https://colab.research.google.com/assets/colab-badge.svg\" alt=\"Open In Colab\"/></a>"
      ]
    },
    {
      "cell_type": "code",
      "execution_count": null,
      "metadata": {
        "colab": {
          "base_uri": "https://localhost:8080/"
        },
        "id": "qNOosQLeBnwW",
        "outputId": "62c3bffc-7dde-4b9e-804d-d84c5d54ac36"
      },
      "outputs": [
        {
          "output_type": "stream",
          "name": "stdout",
          "text": [
            "1\n",
            "\n",
            "['1']\n",
            "2\n",
            "\n",
            "['2']\n",
            "3\n",
            "\n",
            "['3']\n",
            "1,2,10,20\n",
            "\n",
            "['1', '2', '10', '20']\n",
            "Adicionando...\n",
            "1,3,15,15\n",
            "\n",
            "['1', '3', '15', '15']\n",
            "Adicionando...\n",
            "2,3,12,20\n",
            "['2', '3', '12', '20']\n",
            "Adicionando...\n"
          ]
        }
      ],
      "source": [
        "class Aresta:\n",
        "    def __init__(self, grafo, origem, destino, custo, transporte):\n",
        "        if origem in grafo.vertices:\n",
        "            self.origem = origem\n",
        "        else:\n",
        "            print('Origem nao esta no grafo!')\n",
        "            self.origem = None\n",
        "            return None\n",
        "        if destino in grafo.vertices:\n",
        "            self.destino = destino\n",
        "        else:\n",
        "            print('Destino nao esta no grafo!')\n",
        "            self.destino = None\n",
        "            return None\n",
        "        self.custo = custo\n",
        "        self.transporte = transporte\n",
        "\n",
        "\n",
        "class Grafo:\n",
        "    def __init__(self):\n",
        "        self.vertices = []\n",
        "        self.arestas = []\n",
        "\n",
        "    def adicionaVertice(self, nome):\n",
        "        self.vertices.append(nome)\n",
        "        return len(self.vertices)\n",
        "\n",
        "    def adicionaAresta(self, origem, destino, custo, transporte):\n",
        "        a = Aresta(self, origem, destino, custo, transporte)\n",
        "        if a.origem != None and a.destino != None:\n",
        "            print('Adicionando...')\n",
        "            self.arestas.append(a)\n",
        "        return len(self.arestas)\n",
        "\n",
        "    def inicializaComArquivo(self, arquivo):\n",
        "        with open(arquivo, 'r') as file:\n",
        "            for line in file:\n",
        "                print(line)\n",
        "                dados = line.strip().split(',')\n",
        "                print(dados)\n",
        "                if len(dados) == 4:\n",
        "                    origem, destino, custo, transporte = dados\n",
        "                    self.adicionaAresta(origem, destino, int(custo), int(transporte))\n",
        "                elif len(dados) == 1:\n",
        "                    nome = dados[0]\n",
        "                    self.adicionaVertice(nome)\n",
        "                else:\n",
        "                    print(f\"Dados inválidos na linha: {line}\")\n",
        "\n",
        "\n",
        "g = Grafo()\n",
        "g.inicializaComArquivo('/content/drive/MyDrive/Colab_Notebooks/grafo.txt')\n"
      ]
    }
  ]
}